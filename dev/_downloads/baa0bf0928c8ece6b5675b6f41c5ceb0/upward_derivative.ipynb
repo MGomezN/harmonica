{
  "cells": [
    {
      "cell_type": "code",
      "execution_count": null,
      "metadata": {
        "collapsed": false
      },
      "outputs": [],
      "source": [
        "%matplotlib inline"
      ]
    },
    {
      "cell_type": "markdown",
      "metadata": {},
      "source": [
        "\n# Upward derivative of a regular grid\n"
      ]
    },
    {
      "cell_type": "code",
      "execution_count": null,
      "metadata": {
        "collapsed": false
      },
      "outputs": [],
      "source": [
        "import matplotlib.pyplot as plt\nimport numpy as np\nimport pyproj\nimport verde as vd\nimport xrft\n\nimport harmonica as hm\n\n# Fetch the sample total-field magnetic anomaly data from Great Britain\ndata = hm.datasets.fetch_britain_magnetic()\n\n# Slice a smaller portion of the survey data to speed-up calculations for this\n# example\nregion = [-5.5, -4.7, 57.8, 58.5]\ninside = vd.inside((data.longitude, data.latitude), region)\ndata = data[inside]\n\n# Since this is a small area, we'll project our data and use Cartesian\n# coordinates\nprojection = pyproj.Proj(proj=\"merc\", lat_ts=data.latitude.mean())\neasting, northing = projection(data.longitude.values, data.latitude.values)\ncoordinates = (easting, northing, data.altitude_m)\n\n# Grid the scatter data using an equivalent layer\neql = hm.EquivalentSources(depth=1000, damping=1).fit(\n    coordinates, data.total_field_anomaly_nt\n)\n\ngrid_coords = vd.grid_coordinates(\n    region=vd.get_region(coordinates), spacing=500, extra_coords=1500\n)\ngrid = eql.grid(grid_coords, data_names=[\"magnetic_anomaly\"])\ngrid = grid.magnetic_anomaly\n\n# Pad the grid to increase accuracy of the FFT filter\npad_width = {\n    \"easting\": grid.easting.size // 3,\n    \"northing\": grid.northing.size // 3,\n}\ngrid = grid.drop_vars(\"upward\")  # drop extra coordinates due to bug in xrft.pad\ngrid_padded = xrft.pad(grid, pad_width)\n\n# Compute the upward derivative of the grid\nderiv_upward = hm.derivative_upward(grid_padded)\n\n# Unpad the derivative grid\nderiv_upward = xrft.unpad(deriv_upward, pad_width)\n\n# Show the upward derivative\nprint(\"\\nUpward derivative:\\n\", deriv_upward)\n\n# Plot original magnetic anomaly and the upward derivative\nfig, (ax1, ax2) = plt.subplots(\n    nrows=1, ncols=2, figsize=(9, 8), sharex=True, sharey=True\n)\n\n# Plot the magnetic anomaly grid\ngrid.plot(\n    ax=ax1,\n    cmap=\"seismic\",\n    cbar_kwargs={\"label\": \"nT\", \"location\": \"bottom\", \"shrink\": 0.8, \"pad\": 0.08},\n)\nax1.set_title(\"Magnetic anomaly\")\n\n# Plot the upward derivative\nscale = np.quantile(np.abs(deriv_upward), q=0.98)  # scale the colorbar\nderiv_upward.plot(\n    ax=ax2,\n    vmin=-scale,\n    vmax=scale,\n    cmap=\"seismic\",\n    cbar_kwargs={\"label\": \"nT/m\", \"location\": \"bottom\", \"shrink\": 0.8, \"pad\": 0.08},\n)\nax2.set_title(\"Upward derivative\")\n\n# Scale the axes\nfor ax in (ax1, ax2):\n    ax.set_aspect(\"equal\")\n\n# Set ticklabels with scientific notation\nax1.ticklabel_format(axis=\"x\", style=\"sci\", scilimits=(-2, 2))\nax1.ticklabel_format(axis=\"y\", style=\"sci\", scilimits=(-2, 2))\n\nplt.tight_layout()\nplt.show()"
      ]
    }
  ],
  "metadata": {
    "kernelspec": {
      "display_name": "Python 3",
      "language": "python",
      "name": "python3"
    },
    "language_info": {
      "codemirror_mode": {
        "name": "ipython",
        "version": 3
      },
      "file_extension": ".py",
      "mimetype": "text/x-python",
      "name": "python",
      "nbconvert_exporter": "python",
      "pygments_lexer": "ipython3",
      "version": "3.9.13"
    }
  },
  "nbformat": 4,
  "nbformat_minor": 0
}