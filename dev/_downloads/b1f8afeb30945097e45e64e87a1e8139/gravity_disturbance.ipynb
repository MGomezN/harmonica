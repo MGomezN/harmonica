{
 "cells": [
  {
   "cell_type": "code",
   "execution_count": 1,
   "id": "b1f6da99",
   "metadata": {
    "execution": {
     "iopub.execute_input": "2024-03-13T14:29:57.731446Z",
     "iopub.status.busy": "2024-03-13T14:29:57.731283Z",
     "iopub.status.idle": "2024-03-13T14:29:58.182560Z",
     "shell.execute_reply": "2024-03-13T14:29:58.182104Z"
    }
   },
   "outputs": [
    {
     "name": "stdout",
     "output_type": "stream",
     "text": [
      "<xarray.DataArray 'gravity' (latitude: 1081, longitude: 2161)> Size: 9MB\n",
      "array([[980106.5 , 980106.5 , 980106.5 , ..., 980106.5 , 980106.5 ,\n",
      "        980106.5 ],\n",
      "       [980108.25, 980108.25, 980108.25, ..., 980108.25, 980108.25,\n",
      "        980108.25],\n",
      "       [980108.8 , 980108.8 , 980108.8 , ..., 980108.75, 980108.75,\n",
      "        980108.8 ],\n",
      "       ...,\n",
      "       [980153.8 , 980153.75, 980153.6 , ..., 980153.94, 980153.8 ,\n",
      "        980153.8 ],\n",
      "       [980160.44, 980160.44, 980160.44, ..., 980160.44, 980160.44,\n",
      "        980160.44],\n",
      "       [980157.5 , 980157.5 , 980157.5 , ..., 980157.5 , 980157.5 ,\n",
      "        980157.5 ]], dtype=float32)\n",
      "Coordinates:\n",
      "  * longitude  (longitude) float64 17kB -180.0 -179.8 -179.7 ... 179.8 180.0\n",
      "  * latitude   (latitude) float64 9kB -90.0 -89.83 -89.67 ... 89.67 89.83 90.0\n",
      "    height     (latitude, longitude) float32 9MB 1e+04 1e+04 ... 1e+04 1e+04\n",
      "Attributes:\n",
      "    Conventions:     CF-1.8\n",
      "    title:           Gravity acceleration (EIGEN-6C4) at a constant geometric...\n",
      "    crs:             WGS84\n",
      "    source:          Generated from the EIGEN-6C4 model by the ICGEM Calculat...\n",
      "    license:         Creative Commons Attribution 4.0 International Licence\n",
      "    references:      https://doi.org/10.5880/icgem.2015.1\n",
      "    long_name:       gravity acceleration\n",
      "    description:     magnitude of the gravity acceleration vector (gravitatio...\n",
      "    units:           mGal\n",
      "    actual_range:    [974748.6 980201.9]\n",
      "    icgem_metadata:  generating_institute: gfz-potsdam\\ngenerating_date: 2021...\n"
     ]
    }
   ],
   "source": [
    "import ensaio\n",
    "import xarray as xr\n",
    "\n",
    "fname = ensaio.fetch_earth_gravity(version=1)\n",
    "gravity = xr.load_dataarray(fname)\n",
    "print(gravity)"
   ]
  },
  {
   "cell_type": "code",
   "execution_count": 2,
   "id": "338c21f9",
   "metadata": {
    "execution": {
     "iopub.execute_input": "2024-03-13T14:29:58.184389Z",
     "iopub.status.busy": "2024-03-13T14:29:58.184173Z",
     "iopub.status.idle": "2024-03-13T14:30:00.703412Z",
     "shell.execute_reply": "2024-03-13T14:30:00.702865Z"
    }
   },
   "outputs": [],
   "source": [
    "import pygmt\n",
    "\n",
    "fig = pygmt.Figure()\n",
    "fig.grdimage(\n",
    "    gravity,\n",
    "    projection=\"W20c\",\n",
    "    cmap=\"viridis\",\n",
    "    shading=\"+a45+nt0.2\",\n",
    ")\n",
    "fig.basemap(frame=[\"af\", \"WEsn\"])\n",
    "fig.colorbar(\n",
    "    position=\"JCB+w10c\",\n",
    "    frame=[\"af\", 'y+l\"mGal\"', 'x+l\"observed gravity\"'],\n",
    ")\n",
    "fig.coast(shorelines=True, resolution=\"c\", area_thresh=1e4)\n",
    "fig.show()"
   ]
  },
  {
   "cell_type": "code",
   "execution_count": 3,
   "id": "22cf1abd",
   "metadata": {
    "execution": {
     "iopub.execute_input": "2024-03-13T14:30:00.705842Z",
     "iopub.status.busy": "2024-03-13T14:30:00.705456Z",
     "iopub.status.idle": "2024-03-13T14:30:00.931020Z",
     "shell.execute_reply": "2024-03-13T14:30:00.930554Z"
    }
   },
   "outputs": [],
   "source": [
    "import boule as bl\n",
    "\n",
    "ellipsoid = bl.WGS84\n",
    "normal_gravity = ellipsoid.normal_gravity(gravity.latitude, gravity.height)"
   ]
  },
  {
   "cell_type": "code",
   "execution_count": 4,
   "id": "1f661472",
   "metadata": {
    "execution": {
     "iopub.execute_input": "2024-03-13T14:30:00.933349Z",
     "iopub.status.busy": "2024-03-13T14:30:00.933003Z",
     "iopub.status.idle": "2024-03-13T14:30:03.104120Z",
     "shell.execute_reply": "2024-03-13T14:30:03.103691Z"
    }
   },
   "outputs": [
    {
     "name": "stderr",
     "output_type": "stream",
     "text": [
      "grdgradient [WARNING]: Longitude range too small; geographic boundary condition changed to natural.\n"
     ]
    },
    {
     "name": "stderr",
     "output_type": "stream",
     "text": [
      "grdimage [WARNING]: Longitude range too small; geographic boundary condition changed to natural.\n"
     ]
    }
   ],
   "source": [
    "fig = pygmt.Figure()\n",
    "fig.grdimage(\n",
    "    normal_gravity,\n",
    "    projection=\"W20c\",\n",
    "    cmap=\"viridis\",\n",
    "    shading=\"+a45+nt0.2\",\n",
    ")\n",
    "fig.basemap(frame=[\"af\", \"WEsn\"])\n",
    "fig.colorbar(\n",
    "    position=\"JCB+w10c\",\n",
    "    frame=[\"af\", 'y+l\"mGal\"', 'x+l\"normal gravity\"'],\n",
    ")\n",
    "fig.coast(shorelines=True, resolution=\"c\", area_thresh=1e4)\n",
    "fig.show()"
   ]
  },
  {
   "cell_type": "code",
   "execution_count": 5,
   "id": "d44dbaf7",
   "metadata": {
    "execution": {
     "iopub.execute_input": "2024-03-13T14:30:03.106147Z",
     "iopub.status.busy": "2024-03-13T14:30:03.105955Z",
     "iopub.status.idle": "2024-03-13T14:30:03.113160Z",
     "shell.execute_reply": "2024-03-13T14:30:03.112674Z"
    }
   },
   "outputs": [
    {
     "name": "stdout",
     "output_type": "stream",
     "text": [
      "<xarray.DataArray (latitude: 1081, longitude: 2161)> Size: 19MB\n",
      "array([[-35.83509235, -35.83509235, -35.83509235, ..., -35.83509235,\n",
      "        -35.83509235, -35.83509235],\n",
      "       [-34.04097894, -34.04097894, -34.04097894, ..., -34.04097894,\n",
      "        -34.04097894, -34.04097894],\n",
      "       [-33.34614042, -33.34614042, -33.34614042, ..., -33.40864042,\n",
      "        -33.40864042, -33.34614042],\n",
      "       ...,\n",
      "       [ 11.65385958,  11.59135958,  11.46635958, ...,  11.77885958,\n",
      "         11.65385958,  11.65385958],\n",
      "       [ 18.14652106,  18.14652106,  18.14652106, ...,  18.14652106,\n",
      "         18.14652106,  18.14652106],\n",
      "       [ 15.16490765,  15.16490765,  15.16490765, ...,  15.16490765,\n",
      "         15.16490765,  15.16490765]])\n",
      "Coordinates:\n",
      "  * longitude  (longitude) float64 17kB -180.0 -179.8 -179.7 ... 179.8 180.0\n",
      "  * latitude   (latitude) float64 9kB -90.0 -89.83 -89.67 ... 89.67 89.83 90.0\n",
      "    height     (latitude, longitude) float32 9MB 1e+04 1e+04 ... 1e+04 1e+04\n"
     ]
    }
   ],
   "source": [
    "gravity_disturbance = gravity - normal_gravity\n",
    "print(gravity_disturbance)"
   ]
  },
  {
   "cell_type": "code",
   "execution_count": 6,
   "id": "4ffa2330",
   "metadata": {
    "execution": {
     "iopub.execute_input": "2024-03-13T14:30:03.115156Z",
     "iopub.status.busy": "2024-03-13T14:30:03.114894Z",
     "iopub.status.idle": "2024-03-13T14:30:05.946780Z",
     "shell.execute_reply": "2024-03-13T14:30:05.946277Z"
    }
   },
   "outputs": [
    {
     "name": "stderr",
     "output_type": "stream",
     "text": [
      "grdgradient [WARNING]: Longitude range too small; geographic boundary condition changed to natural.\n"
     ]
    },
    {
     "name": "stderr",
     "output_type": "stream",
     "text": [
      "grdimage [WARNING]: Longitude range too small; geographic boundary condition changed to natural.\n"
     ]
    }
   ],
   "source": [
    "import verde as vd\n",
    "\n",
    "maxabs = vd.maxabs(gravity_disturbance)\n",
    "\n",
    "fig = pygmt.Figure()\n",
    "pygmt.makecpt(series=[-maxabs, maxabs], cmap=\"polar+h\")\n",
    "fig.grdimage(\n",
    "    gravity_disturbance,\n",
    "    projection=\"W20c\",\n",
    "    cmap=True,\n",
    "    shading=\"+a45+nt0.2\",\n",
    ")\n",
    "fig.basemap(frame=[\"af\", \"WEsn\"])\n",
    "fig.colorbar(\n",
    "    position=\"JCB+w10c\",\n",
    "    frame=[\"af\", 'y+l\"mGal\"', 'x+l\"gravity disturbance\"'],\n",
    ")\n",
    "fig.coast(shorelines=True, resolution=\"c\", area_thresh=1e4)\n",
    "fig.show()"
   ]
  }
 ],
 "metadata": {
  "kernelspec": {
   "display_name": "Python 3 (ipykernel)",
   "language": "python",
   "name": "python3"
  },
  "language_info": {
   "codemirror_mode": {
    "name": "ipython",
    "version": 3
   },
   "file_extension": ".py",
   "mimetype": "text/x-python",
   "name": "python",
   "nbconvert_exporter": "python",
   "pygments_lexer": "ipython3",
   "version": "3.11.8"
  }
 },
 "nbformat": 4,
 "nbformat_minor": 5
}