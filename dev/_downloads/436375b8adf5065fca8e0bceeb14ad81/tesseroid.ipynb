{
 "cells": [
  {
   "cell_type": "code",
   "execution_count": 1,
   "id": "cf9cd48f",
   "metadata": {
    "execution": {
     "iopub.execute_input": "2024-03-13T14:29:46.003135Z",
     "iopub.status.busy": "2024-03-13T14:29:46.002973Z",
     "iopub.status.idle": "2024-03-13T14:29:46.076723Z",
     "shell.execute_reply": "2024-03-13T14:29:46.076284Z"
    }
   },
   "outputs": [],
   "source": [
    "import boule as bl\n",
    "\n",
    "ellipsoid = bl.WGS84\n",
    "mean_radius = ellipsoid.mean_radius"
   ]
  },
  {
   "cell_type": "code",
   "execution_count": 2,
   "id": "a27f2948",
   "metadata": {
    "execution": {
     "iopub.execute_input": "2024-03-13T14:29:46.079719Z",
     "iopub.status.busy": "2024-03-13T14:29:46.078862Z",
     "iopub.status.idle": "2024-03-13T14:29:46.082527Z",
     "shell.execute_reply": "2024-03-13T14:29:46.082116Z"
    }
   },
   "outputs": [],
   "source": [
    "tesseroid = (-70, -50, -40, -20, mean_radius - 10e3, mean_radius)\n",
    "density = 2670"
   ]
  },
  {
   "cell_type": "code",
   "execution_count": 3,
   "id": "13d28a81",
   "metadata": {
    "execution": {
     "iopub.execute_input": "2024-03-13T14:29:46.085501Z",
     "iopub.status.busy": "2024-03-13T14:29:46.084688Z",
     "iopub.status.idle": "2024-03-13T14:29:46.941598Z",
     "shell.execute_reply": "2024-03-13T14:29:46.941074Z"
    }
   },
   "outputs": [],
   "source": [
    "import verde as vd\n",
    "\n",
    "coordinates = vd.grid_coordinates(\n",
    "    region=[-80, -40, -50, -10],\n",
    "    shape=(80, 80),\n",
    "    extra_coords=100e3 + mean_radius,\n",
    ")"
   ]
  },
  {
   "cell_type": "code",
   "execution_count": 4,
   "id": "3afc404a",
   "metadata": {
    "execution": {
     "iopub.execute_input": "2024-03-13T14:29:46.943948Z",
     "iopub.status.busy": "2024-03-13T14:29:46.943669Z",
     "iopub.status.idle": "2024-03-13T14:29:52.469405Z",
     "shell.execute_reply": "2024-03-13T14:29:52.468874Z"
    }
   },
   "outputs": [],
   "source": [
    "import harmonica as hm\n",
    "\n",
    "gravity = hm.tesseroid_gravity(coordinates, tesseroid, density, field=\"g_z\")"
   ]
  },
  {
   "cell_type": "code",
   "execution_count": 5,
   "id": "3cfaa553",
   "metadata": {
    "execution": {
     "iopub.execute_input": "2024-03-13T14:29:52.471915Z",
     "iopub.status.busy": "2024-03-13T14:29:52.471370Z",
     "iopub.status.idle": "2024-03-13T14:29:52.716306Z",
     "shell.execute_reply": "2024-03-13T14:29:52.715859Z"
    }
   },
   "outputs": [],
   "source": [
    "import pygmt\n",
    "grid = vd.make_xarray_grid(\n",
    "   coordinates, gravity, data_names=\"gravity\", extra_coords_names=\"extra\")\n",
    "\n",
    "fig = pygmt.Figure()\n",
    "title = \"Downward component of gravitational acceleration\"\n",
    "with pygmt.config(FONT_TITLE=\"12p\"):\n",
    "   fig.grdimage(\n",
    "      region=[-80, -40, -50, -10],\n",
    "      projection=\"M-60/-30/10c\",\n",
    "      grid=grid.gravity,\n",
    "      frame=[\"a\", f\"+t{title}\"],\n",
    "      cmap=\"viridis\",\n",
    "   )\n",
    "\n",
    "fig.colorbar(cmap=True, frame=[\"a200f50\", \"x+lmGal\"])\n",
    "fig.coast(shorelines=\"1p,black\")\n",
    "\n",
    "fig.show()"
   ]
  },
  {
   "cell_type": "code",
   "execution_count": 6,
   "id": "4cff8ae5",
   "metadata": {
    "execution": {
     "iopub.execute_input": "2024-03-13T14:29:52.718426Z",
     "iopub.status.busy": "2024-03-13T14:29:52.718229Z",
     "iopub.status.idle": "2024-03-13T14:29:52.721358Z",
     "shell.execute_reply": "2024-03-13T14:29:52.720988Z"
    }
   },
   "outputs": [],
   "source": [
    "tesseroids = [\n",
    "    [-70, -65, -40, -35, mean_radius - 100e3, mean_radius],\n",
    "    [-55, -50, -40, -35, mean_radius - 100e3, mean_radius],\n",
    "    [-70, -65, -25, -20, mean_radius - 100e3, mean_radius],\n",
    "    [-55, -50, -25, -20, mean_radius - 100e3, mean_radius],\n",
    "]\n",
    "densities = [2670 , 2670, 2670, 2670]"
   ]
  },
  {
   "cell_type": "code",
   "execution_count": 7,
   "id": "80773bf0",
   "metadata": {
    "execution": {
     "iopub.execute_input": "2024-03-13T14:29:52.723027Z",
     "iopub.status.busy": "2024-03-13T14:29:52.722869Z",
     "iopub.status.idle": "2024-03-13T14:29:52.748345Z",
     "shell.execute_reply": "2024-03-13T14:29:52.747984Z"
    }
   },
   "outputs": [],
   "source": [
    "coordinates = vd.grid_coordinates(\n",
    "    region=[-80, -40, -50, -10],\n",
    "    shape=(80, 80),\n",
    "    extra_coords=100e3 + mean_radius,\n",
    ")\n",
    "gravity = hm.tesseroid_gravity(coordinates, tesseroids, densities, field=\"g_z\")"
   ]
  },
  {
   "cell_type": "code",
   "execution_count": 8,
   "id": "6dfb3cb4",
   "metadata": {
    "execution": {
     "iopub.execute_input": "2024-03-13T14:29:52.750013Z",
     "iopub.status.busy": "2024-03-13T14:29:52.749847Z",
     "iopub.status.idle": "2024-03-13T14:29:52.823601Z",
     "shell.execute_reply": "2024-03-13T14:29:52.823229Z"
    }
   },
   "outputs": [],
   "source": [
    "grid = vd.make_xarray_grid(\n",
    "   coordinates, gravity, data_names=\"gravity\", extra_coords_names=\"extra\")\n",
    "\n",
    "fig = pygmt.Figure()\n",
    "title = \"Downward component of gravitational acceleration\"\n",
    "with pygmt.config(FONT_TITLE=\"12p\"):\n",
    "   fig.grdimage(\n",
    "      region=[-80, -40, -50, -10],\n",
    "      projection=\"M-60/-30/10c\",\n",
    "      grid=grid.gravity,\n",
    "      frame=[\"a\", f\"+t{title}\"],\n",
    "      cmap=\"viridis\",\n",
    "   )\n",
    "\n",
    "fig.colorbar(cmap=True, frame=[\"a1000f500\", \"x+lmGal\"])\n",
    "fig.coast(shorelines=\"1p,black\")\n",
    "\n",
    "fig.show()"
   ]
  },
  {
   "cell_type": "code",
   "execution_count": 9,
   "id": "9c2cd212",
   "metadata": {
    "execution": {
     "iopub.execute_input": "2024-03-13T14:29:52.825316Z",
     "iopub.status.busy": "2024-03-13T14:29:52.825159Z",
     "iopub.status.idle": "2024-03-13T14:29:52.828036Z",
     "shell.execute_reply": "2024-03-13T14:29:52.827645Z"
    }
   },
   "outputs": [],
   "source": [
    "tesseroids = (\n",
    "    [-70, -60, -40, -30, mean_radius - 3e3, mean_radius],\n",
    "    [-70, -60, -30, -20, mean_radius - 5e3, mean_radius],\n",
    "    [-60, -50, -40, -30, mean_radius - 7e3, mean_radius],\n",
    "    [-60, -50, -30, -20, mean_radius - 10e3, mean_radius],\n",
    ")"
   ]
  },
  {
   "cell_type": "code",
   "execution_count": 10,
   "id": "a596e089",
   "metadata": {
    "execution": {
     "iopub.execute_input": "2024-03-13T14:29:52.829567Z",
     "iopub.status.busy": "2024-03-13T14:29:52.829417Z",
     "iopub.status.idle": "2024-03-13T14:29:52.832595Z",
     "shell.execute_reply": "2024-03-13T14:29:52.832119Z"
    }
   },
   "outputs": [],
   "source": [
    "from numba import njit\n",
    "\n",
    "@njit\n",
    "def density(radius):\n",
    "    \"\"\"Linear density function\"\"\"\n",
    "    top = mean_radius\n",
    "    bottom = mean_radius - 10e3\n",
    "    density_top = 2670\n",
    "    density_bottom = 3000\n",
    "    slope = (density_top - density_bottom) / (top - bottom)\n",
    "    return slope * (radius - bottom) + density_bottom"
   ]
  },
  {
   "cell_type": "code",
   "execution_count": 11,
   "id": "2008113f",
   "metadata": {
    "execution": {
     "iopub.execute_input": "2024-03-13T14:29:52.834188Z",
     "iopub.status.busy": "2024-03-13T14:29:52.834013Z",
     "iopub.status.idle": "2024-03-13T14:29:52.836860Z",
     "shell.execute_reply": "2024-03-13T14:29:52.836473Z"
    }
   },
   "outputs": [],
   "source": [
    "coordinates = vd.grid_coordinates(\n",
    "    region=[-80, -40, -50, -10],\n",
    "    shape=(80, 80),\n",
    "    extra_coords=100e3 + ellipsoid.mean_radius,\n",
    ")"
   ]
  },
  {
   "cell_type": "code",
   "execution_count": 12,
   "id": "318ce845",
   "metadata": {
    "execution": {
     "iopub.execute_input": "2024-03-13T14:29:52.838401Z",
     "iopub.status.busy": "2024-03-13T14:29:52.838251Z",
     "iopub.status.idle": "2024-03-13T14:29:56.104216Z",
     "shell.execute_reply": "2024-03-13T14:29:56.103672Z"
    }
   },
   "outputs": [],
   "source": [
    "gravity = hm.tesseroid_gravity(coordinates, tesseroids, density, field=\"g_z\")"
   ]
  },
  {
   "cell_type": "code",
   "execution_count": 13,
   "id": "700a5abd",
   "metadata": {
    "execution": {
     "iopub.execute_input": "2024-03-13T14:29:56.106428Z",
     "iopub.status.busy": "2024-03-13T14:29:56.106261Z",
     "iopub.status.idle": "2024-03-13T14:29:56.180397Z",
     "shell.execute_reply": "2024-03-13T14:29:56.179899Z"
    }
   },
   "outputs": [],
   "source": [
    "grid = vd.make_xarray_grid(\n",
    "   coordinates, gravity, data_names=\"gravity\", extra_coords_names=\"extra\")\n",
    "\n",
    "fig = pygmt.Figure()\n",
    "title = \"Downward component of gravitational acceleration\"\n",
    "with pygmt.config(FONT_TITLE=\"12p\"):\n",
    "   fig.grdimage(\n",
    "      region=[-80, -40, -50, -10],\n",
    "      projection=\"M-60/-30/10c\",\n",
    "      grid=grid.gravity,\n",
    "      frame=[\"a\", f\"+t{title}\"],\n",
    "      cmap=\"viridis\",\n",
    "   )\n",
    "\n",
    "fig.colorbar(cmap=True, frame=[\"a200f100\", \"x+lmGal\"])\n",
    "fig.coast(shorelines=\"1p,black\")\n",
    "\n",
    "fig.show()"
   ]
  }
 ],
 "metadata": {
  "kernelspec": {
   "display_name": "Python 3 (ipykernel)",
   "language": "python",
   "name": "python3"
  },
  "language_info": {
   "codemirror_mode": {
    "name": "ipython",
    "version": 3
   },
   "file_extension": ".py",
   "mimetype": "text/x-python",
   "name": "python",
   "nbconvert_exporter": "python",
   "pygments_lexer": "ipython3",
   "version": "3.11.8"
  }
 },
 "nbformat": 4,
 "nbformat_minor": 5
}