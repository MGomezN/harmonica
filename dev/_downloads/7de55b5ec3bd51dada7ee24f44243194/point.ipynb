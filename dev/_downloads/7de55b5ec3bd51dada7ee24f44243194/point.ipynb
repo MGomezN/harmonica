{
 "cells": [
  {
   "cell_type": "code",
   "execution_count": 1,
   "id": "5d18253b",
   "metadata": {
    "execution": {
     "iopub.execute_input": "2024-03-13T14:29:20.703030Z",
     "iopub.status.busy": "2024-03-13T14:29:20.702602Z",
     "iopub.status.idle": "2024-03-13T14:29:22.275774Z",
     "shell.execute_reply": "2024-03-13T14:29:22.275279Z"
    }
   },
   "outputs": [],
   "source": [
    "import harmonica as hm"
   ]
  },
  {
   "cell_type": "code",
   "execution_count": 2,
   "id": "393526d5",
   "metadata": {
    "execution": {
     "iopub.execute_input": "2024-03-13T14:29:22.277946Z",
     "iopub.status.busy": "2024-03-13T14:29:22.277653Z",
     "iopub.status.idle": "2024-03-13T14:29:22.280202Z",
     "shell.execute_reply": "2024-03-13T14:29:22.279835Z"
    }
   },
   "outputs": [],
   "source": [
    "point = (400, 300, 200)\n",
    "mass = 1e6"
   ]
  },
  {
   "cell_type": "code",
   "execution_count": 3,
   "id": "b1ecba8d",
   "metadata": {
    "execution": {
     "iopub.execute_input": "2024-03-13T14:29:22.281866Z",
     "iopub.status.busy": "2024-03-13T14:29:22.281701Z",
     "iopub.status.idle": "2024-03-13T14:29:22.284242Z",
     "shell.execute_reply": "2024-03-13T14:29:22.283837Z"
    }
   },
   "outputs": [],
   "source": [
    "coordinates = (point[0], point[1], point[2] + 100)"
   ]
  },
  {
   "cell_type": "code",
   "execution_count": 4,
   "id": "a8c6ee93",
   "metadata": {
    "execution": {
     "iopub.execute_input": "2024-03-13T14:29:22.285802Z",
     "iopub.status.busy": "2024-03-13T14:29:22.285642Z",
     "iopub.status.idle": "2024-03-13T14:29:22.920620Z",
     "shell.execute_reply": "2024-03-13T14:29:22.920108Z"
    }
   },
   "outputs": [
    {
     "name": "stdout",
     "output_type": "stream",
     "text": [
      "6.674299999999999e-07 J/kg\n"
     ]
    }
   ],
   "source": [
    "potential = hm.point_gravity(coordinates, point, mass, field=\"potential\")\n",
    "print(potential, \"J/kg\")"
   ]
  },
  {
   "cell_type": "code",
   "execution_count": 5,
   "id": "eda1e14f",
   "metadata": {
    "execution": {
     "iopub.execute_input": "2024-03-13T14:29:22.922448Z",
     "iopub.status.busy": "2024-03-13T14:29:22.922272Z",
     "iopub.status.idle": "2024-03-13T14:29:22.925377Z",
     "shell.execute_reply": "2024-03-13T14:29:22.925019Z"
    }
   },
   "outputs": [],
   "source": [
    "import numpy as np\n",
    "\n",
    "easting = np.array([250, 750, 250, 750])\n",
    "northing = np.array([250, 250, 750, 750])\n",
    "upward = np.array([-100, -100, -100, -100])\n",
    "points = (easting, northing, upward)\n",
    "\n",
    "masses = np.array([1e6, -1e6, 2e6, -3e6])"
   ]
  },
  {
   "cell_type": "code",
   "execution_count": 6,
   "id": "d360e054",
   "metadata": {
    "execution": {
     "iopub.execute_input": "2024-03-13T14:29:22.927127Z",
     "iopub.status.busy": "2024-03-13T14:29:22.926960Z",
     "iopub.status.idle": "2024-03-13T14:29:22.929853Z",
     "shell.execute_reply": "2024-03-13T14:29:22.929457Z"
    }
   },
   "outputs": [],
   "source": [
    "import verde as vd\n",
    "\n",
    "coordinates = vd.grid_coordinates(\n",
    "    region=(-250, 1250, -250, 1250), shape=(40, 40), extra_coords=0\n",
    ")"
   ]
  },
  {
   "cell_type": "code",
   "execution_count": 7,
   "id": "c40d864a",
   "metadata": {
    "execution": {
     "iopub.execute_input": "2024-03-13T14:29:22.931380Z",
     "iopub.status.busy": "2024-03-13T14:29:22.931221Z",
     "iopub.status.idle": "2024-03-13T14:29:23.471036Z",
     "shell.execute_reply": "2024-03-13T14:29:23.470556Z"
    }
   },
   "outputs": [],
   "source": [
    "g_z = hm.point_gravity(coordinates, points, masses, field=\"g_z\")"
   ]
  },
  {
   "cell_type": "code",
   "execution_count": 8,
   "id": "b3491a74",
   "metadata": {
    "execution": {
     "iopub.execute_input": "2024-03-13T14:29:23.473300Z",
     "iopub.status.busy": "2024-03-13T14:29:23.472927Z",
     "iopub.status.idle": "2024-03-13T14:29:23.652046Z",
     "shell.execute_reply": "2024-03-13T14:29:23.651567Z"
    }
   },
   "outputs": [],
   "source": [
    "import pygmt\n",
    "\n",
    "grid = vd.make_xarray_grid(\n",
    "   coordinates, g_z, data_names=\"g_z\", extra_coords_names=\"extra\")\n",
    "\n",
    "fig = pygmt.Figure()\n",
    "\n",
    "maxabs = vd.maxabs(g_z)\n",
    "pygmt.makecpt(cmap=\"polar\", series=(-maxabs, maxabs), background=True)\n",
    "\n",
    "fig.grdimage(\n",
    "   region=(-250, 1250, -250, 1250),\n",
    "   projection=\"X10c\",\n",
    "   grid=grid.g_z,\n",
    "   frame=[\"a\", \"x+leasting (m)\", \"y+lnorthing (m)\"],\n",
    "   cmap=True,)\n",
    "fig.colorbar(cmap=True, position=\"JMR\", frame=[\"a.0005\", \"x+lmGal\"])\n",
    "fig.show()"
   ]
  },
  {
   "cell_type": "code",
   "execution_count": 9,
   "id": "663830ba",
   "metadata": {
    "execution": {
     "iopub.execute_input": "2024-03-13T14:29:23.654871Z",
     "iopub.status.busy": "2024-03-13T14:29:23.654330Z",
     "iopub.status.idle": "2024-03-13T14:29:23.669421Z",
     "shell.execute_reply": "2024-03-13T14:29:23.669048Z"
    }
   },
   "outputs": [],
   "source": [
    "import boule as bl\n",
    "\n",
    "ellipsoid = bl.WGS84"
   ]
  },
  {
   "cell_type": "code",
   "execution_count": 10,
   "id": "72e4242e",
   "metadata": {
    "execution": {
     "iopub.execute_input": "2024-03-13T14:29:23.671138Z",
     "iopub.status.busy": "2024-03-13T14:29:23.670978Z",
     "iopub.status.idle": "2024-03-13T14:29:23.673446Z",
     "shell.execute_reply": "2024-03-13T14:29:23.673066Z"
    }
   },
   "outputs": [],
   "source": [
    "longitude, latitude = 45, 0\n",
    "radius = ellipsoid.geocentric_radius(latitude, geodetic=False)\n",
    "point = (longitude, latitude, radius)\n",
    "\n",
    "mass = 1e6"
   ]
  },
  {
   "cell_type": "code",
   "execution_count": 11,
   "id": "13e67774",
   "metadata": {
    "execution": {
     "iopub.execute_input": "2024-03-13T14:29:23.675098Z",
     "iopub.status.busy": "2024-03-13T14:29:23.674938Z",
     "iopub.status.idle": "2024-03-13T14:29:23.677462Z",
     "shell.execute_reply": "2024-03-13T14:29:23.676999Z"
    }
   },
   "outputs": [],
   "source": [
    "coordinates = (point[0], point[1], point[2] + 1000)"
   ]
  },
  {
   "cell_type": "code",
   "execution_count": 12,
   "id": "61d85cc6",
   "metadata": {
    "execution": {
     "iopub.execute_input": "2024-03-13T14:29:23.679241Z",
     "iopub.status.busy": "2024-03-13T14:29:23.678931Z",
     "iopub.status.idle": "2024-03-13T14:29:25.360687Z",
     "shell.execute_reply": "2024-03-13T14:29:25.360239Z"
    }
   },
   "outputs": [
    {
     "name": "stdout",
     "output_type": "stream",
     "text": [
      "6.6743e-06 mGal\n"
     ]
    }
   ],
   "source": [
    "g_z = hm.point_gravity(\n",
    "    coordinates, point, mass, field=\"g_z\", coordinate_system=\"spherical\"\n",
    ")\n",
    "print(g_z, \"mGal\")"
   ]
  },
  {
   "cell_type": "code",
   "execution_count": 13,
   "id": "afb49e65",
   "metadata": {
    "execution": {
     "iopub.execute_input": "2024-03-13T14:29:25.362422Z",
     "iopub.status.busy": "2024-03-13T14:29:25.362262Z",
     "iopub.status.idle": "2024-03-13T14:29:25.365354Z",
     "shell.execute_reply": "2024-03-13T14:29:25.364889Z"
    }
   },
   "outputs": [],
   "source": [
    "longitude = np.array([-71, -71, -69, -69])\n",
    "latitude = np.array([-45, -43, -45, -43])\n",
    "height = np.array([-10e3, -20e3, -30e3, -20e3])\n",
    "points = (longitude, latitude, height)\n",
    "\n",
    "masses = np.array([1e6, 2e6, -3e6, 5e6])"
   ]
  },
  {
   "cell_type": "code",
   "execution_count": 14,
   "id": "caa1ec80",
   "metadata": {
    "execution": {
     "iopub.execute_input": "2024-03-13T14:29:25.367040Z",
     "iopub.status.busy": "2024-03-13T14:29:25.366883Z",
     "iopub.status.idle": "2024-03-13T14:29:25.369719Z",
     "shell.execute_reply": "2024-03-13T14:29:25.369259Z"
    }
   },
   "outputs": [],
   "source": [
    "coordinates = vd.grid_coordinates(\n",
    "    region=(-72, -68, -46, -42),\n",
    "    shape=(101, 101),\n",
    "    extra_coords=20e3,\n",
    ")"
   ]
  },
  {
   "cell_type": "code",
   "execution_count": 15,
   "id": "cea843e4",
   "metadata": {
    "execution": {
     "iopub.execute_input": "2024-03-13T14:29:25.371460Z",
     "iopub.status.busy": "2024-03-13T14:29:25.371102Z",
     "iopub.status.idle": "2024-03-13T14:29:25.374009Z",
     "shell.execute_reply": "2024-03-13T14:29:25.373551Z"
    }
   },
   "outputs": [],
   "source": [
    "points_spherical = ellipsoid.geodetic_to_spherical(*points)\n",
    "coordinates_spherical = ellipsoid.geodetic_to_spherical(*coordinates)"
   ]
  },
  {
   "cell_type": "code",
   "execution_count": 16,
   "id": "4a5bc091",
   "metadata": {
    "execution": {
     "iopub.execute_input": "2024-03-13T14:29:25.375981Z",
     "iopub.status.busy": "2024-03-13T14:29:25.375591Z",
     "iopub.status.idle": "2024-03-13T14:29:26.907501Z",
     "shell.execute_reply": "2024-03-13T14:29:26.906967Z"
    }
   },
   "outputs": [],
   "source": [
    "g_z = hm.point_gravity(\n",
    "    coordinates_spherical,\n",
    "    points_spherical,\n",
    "    masses,\n",
    "    field=\"g_z\",\n",
    "    coordinate_system=\"spherical\",\n",
    ")"
   ]
  },
  {
   "cell_type": "code",
   "execution_count": 17,
   "id": "219e3114",
   "metadata": {
    "execution": {
     "iopub.execute_input": "2024-03-13T14:29:26.909526Z",
     "iopub.status.busy": "2024-03-13T14:29:26.909349Z",
     "iopub.status.idle": "2024-03-13T14:29:26.929180Z",
     "shell.execute_reply": "2024-03-13T14:29:26.928761Z"
    }
   },
   "outputs": [
    {
     "name": "stderr",
     "output_type": "stream",
     "text": [
      "/home/runner/miniconda3/envs/test/lib/python3.11/site-packages/pygmt/clib/session.py:1459: RuntimeWarning: Grid may have irregular spacing in the 'northing' dimension, but GMT only supports regular spacing. Calculated regular spacing 0.03998976767213982 is assumed in the 'northing' dimension.\n",
      "  matrix, region, inc = dataarray_to_matrix(grid)\n"
     ]
    }
   ],
   "source": [
    "import pygmt\n",
    "\n",
    "grid = vd.make_xarray_grid(\n",
    "   coordinates_spherical, g_z, data_names=\"g_z\", extra_coords_names=\"extra\")\n",
    "\n",
    "fig = pygmt.Figure()\n",
    "title = \"Gravitational acceleration (downward)\"\n",
    "maxabs = vd.maxabs(g_z)*.95\n",
    "pygmt.makecpt(cmap=\"polar\", series=(-maxabs, maxabs), background=True)\n",
    "\n",
    "fig.grdimage(\n",
    "   region=(-72, -68, -46, -42),\n",
    "   projection=\"M10c\",\n",
    "   grid=grid.g_z,\n",
    "   frame=[f\"WSne+t{title}\", \"x\", \"y\"],\n",
    "   cmap=True,)\n",
    "\n",
    "fig.colorbar(cmap=True, position=\"JMR\", frame=[\"a0.000000005\", \"x+lmGal\"])\n",
    "fig.show()"
   ]
  }
 ],
 "metadata": {
  "kernelspec": {
   "display_name": "Python 3 (ipykernel)",
   "language": "python",
   "name": "python3"
  },
  "language_info": {
   "codemirror_mode": {
    "name": "ipython",
    "version": 3
   },
   "file_extension": ".py",
   "mimetype": "text/x-python",
   "name": "python",
   "nbconvert_exporter": "python",
   "pygments_lexer": "ipython3",
   "version": "3.11.8"
  }
 },
 "nbformat": 4,
 "nbformat_minor": 5
}