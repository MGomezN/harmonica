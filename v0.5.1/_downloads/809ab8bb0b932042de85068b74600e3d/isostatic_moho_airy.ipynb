{
  "cells": [
    {
      "cell_type": "code",
      "execution_count": null,
      "metadata": {
        "collapsed": false
      },
      "outputs": [],
      "source": [
        "%matplotlib inline"
      ]
    },
    {
      "cell_type": "markdown",
      "metadata": {},
      "source": [
        "\n# Airy Isostatic Moho\n\nAccording to the Airy hypothesis of isostasy, topography above sea level is\nsupported by a thickening of the crust (a root) while oceanic basins are\nsupported by a thinning of the crust (an anti-root). Function\n:func:`harmonica.isostatic_moho_airy` computes the depth to crust-mantle\ninterface (the Moho) according to Airy isostasy. The function takes the depth\nto the crystalline basement and optionally any layers on top of it. Each layer\nis defined by its thickness and its density. In addition, one must assume\na value for the reference thickness of the continental crust in order to\nconvert the root/anti-root thickness into Moho depth. The function contains\ncommon default values for the reference thickness and crust, mantle\n[TurcotteSchubert2014]_.\n\nWe'll use our sample topography data\n(:func:`harmonica.datasets.fetch_topography_earth`) to calculate the Airy\nisostatic Moho depth of Africa.\n"
      ]
    },
    {
      "cell_type": "code",
      "execution_count": null,
      "metadata": {
        "collapsed": false
      },
      "outputs": [],
      "source": [
        "import cartopy.crs as ccrs\nimport matplotlib.pyplot as plt\nimport numpy as np\n\nimport harmonica as hm\n\n# Load the elevation model and cut out the portion of the data corresponding to\n# Africa\ndata = hm.datasets.fetch_topography_earth()\nregion = (-20, 60, -40, 45)\ndata_africa = data.sel(latitude=slice(*region[2:]), longitude=slice(*region[:2]))\nprint(\"Topography/bathymetry grid:\")\nprint(data_africa)\n\n# Calculate the water thickness\noceans = np.array(data_africa.topography < 0)\nwater_thickness = data_africa.topography * oceans * -1\nwater_density = 1030\n\n# Calculate the isostatic Moho depth using the default values for densities and\n# reference Moho with water load. We neglect the effect of sediment here, so\n# basement elevation refers to topography.\nmoho = hm.isostatic_moho_airy(\n    basement=data_africa.topography,\n    layers={\"water\": (water_thickness, water_density)},\n)\nprint(\"\\nMoho depth grid:\")\nprint(moho)\n\n# Draw the maps\nplt.figure(figsize=(8, 9.5))\nax = plt.axes(projection=ccrs.LambertCylindrical(central_longitude=20))\npc = moho.plot.pcolormesh(\n    ax=ax, cmap=\"viridis_r\", add_colorbar=False, transform=ccrs.PlateCarree()\n)\nplt.colorbar(pc, ax=ax, orientation=\"horizontal\", pad=0.01, aspect=50, label=\"meters\")\nax.coastlines()\nax.set_title(\"Airy isostatic Moho depth of Africa\")\nax.set_extent(region, crs=ccrs.PlateCarree())\nplt.show()"
      ]
    }
  ],
  "metadata": {
    "kernelspec": {
      "display_name": "Python 3",
      "language": "python",
      "name": "python3"
    },
    "language_info": {
      "codemirror_mode": {
        "name": "ipython",
        "version": 3
      },
      "file_extension": ".py",
      "mimetype": "text/x-python",
      "name": "python",
      "nbconvert_exporter": "python",
      "pygments_lexer": "ipython3",
      "version": "3.9.13"
    }
  },
  "nbformat": 4,
  "nbformat_minor": 0
}